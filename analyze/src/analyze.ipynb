{
 "cells": [
  {
   "cell_type": "code",
   "execution_count": null,
   "metadata": {},
   "outputs": [],
   "source": [
    "import pandas as pd\n"
   ]
  },
  {
   "cell_type": "code",
   "execution_count": null,
   "metadata": {},
   "outputs": [],
   "source": [
    "df = pd.read_csv('../../resource/data.csv')\n",
    "df\n"
   ]
  },
  {
   "cell_type": "code",
   "execution_count": null,
   "metadata": {},
   "outputs": [],
   "source": [
    "from pyknp import Juman\n"
   ]
  },
  {
   "cell_type": "code",
   "execution_count": null,
   "metadata": {},
   "outputs": [],
   "source": [
    "test_data = df['content'][2]\n",
    "test_data\n"
   ]
  },
  {
   "cell_type": "code",
   "execution_count": null,
   "metadata": {},
   "outputs": [],
   "source": [
    "jumanpp = Juman()\n",
    "result = jumanpp.analysis(test_data)\n",
    "for mrph in result.mrph_list():\n",
    "    print(f'見出し:{mrph.midasi}, 読み:{mrph.yomi}, 原形:{mrph.genkei}, 品詞:{mrph.hinsi}, 品詞細分類:{mrph.bunrui}, 活用型:{mrph.katuyou1}, 活用形:{mrph.katuyou1}, 意味情報:{mrph.imis}, 代表表記:{mrph.repname}')\n"
   ]
  },
  {
   "cell_type": "code",
   "execution_count": null,
   "metadata": {},
   "outputs": [],
   "source": [
    "import nltk\n"
   ]
  },
  {
   "cell_type": "code",
   "execution_count": null,
   "metadata": {},
   "outputs": [],
   "source": [
    "fd = nltk.FreqDist(mrph.midasi for mrph in result.mrph_list())\n",
    "check_num = 10 # 取得数\n",
    "\n",
    "word_result = fd.most_common(check_num)\n",
    "print(word_result)\n"
   ]
  },
  {
   "cell_type": "code",
   "execution_count": null,
   "metadata": {},
   "outputs": [],
   "source": [
    "exclude_authors = [\n",
    "    'a3c13ef4c9eccfde01bd9326a2ab08b2ad7dc57f3b77db77723f8e2ad7ba24d6', # 流速ちゃん\n",
    "    '4e86cdbb1ed747ff40c65303d1fc463e10aecb113049b05fc4317c29e31ccaaf', # ぬるぽ\n",
    "    '77911886971fe579fe3e4f90d9dc7e91fcd74850dc2853681fff17654b218091', # ビットコイン\n",
    "    'f768fae9f2390a5223f000a424deb9302a9381e33abb8b084ca844f691b11cdd', # buzzword\n",
    "    'd735231e8eeb2d49becea0ebadf7cde4f81807ddc6d7389890f5b2067e099183', # classmethod\n",
    "    '1f2787b72797d6be8d32a0bb993c19e698765fd5aeb66c3e788570693c045d87', # I RUN CODE\n",
    "    '3aa38bf663b6c834a04a6542edf14a81d3223e050c3cc9b7479f8c869c432cf2', # ランキング\n",
    "    '9b58b54d9b6cb1f3a03feb8456ebdaed550ad1a7be71deb9005ec2c2d38e93f1', # 時報\n",
    "]\n",
    "filtered_df = df[~df['author'].isin(exclude_authors)]\n",
    "filtered_df = filtered_df[~filtered_df['content'].str.contains('----------')]\n",
    "filtered_df\n"
   ]
  },
  {
   "cell_type": "code",
   "execution_count": null,
   "metadata": {},
   "outputs": [],
   "source": [
    "unit_test_data = filtered_df['content']\n",
    "unit_test_data = unit_test_data.values.tolist()\n",
    "unit_test_data\n"
   ]
  },
  {
   "cell_type": "code",
   "execution_count": null,
   "metadata": {},
   "outputs": [],
   "source": [
    "jumanpp = Juman()\n",
    "unit_result = [ jumanpp.analysis(data) for data in unit_test_data ]\n",
    "midashi = [ mrph.midasi for result in unit_result for mrph in result.mrph_list() ]\n",
    "genkei = [ mrph.genkei for result in unit_result for mrph in result.mrph_list() ]\n"
   ]
  },
  {
   "cell_type": "code",
   "execution_count": null,
   "metadata": {},
   "outputs": [],
   "source": [
    "fd = nltk.FreqDist(midashi)\n",
    "unit_check_num = 10 # 取得数\n",
    "\n",
    "unit_midashi_result = fd.most_common(unit_check_num)\n",
    "print(unit_midashi_result)\n"
   ]
  }
 ],
 "metadata": {
  "kernelspec": {
   "display_name": "env",
   "language": "python",
   "name": "python3"
  },
  "language_info": {
   "codemirror_mode": {
    "name": "ipython",
    "version": 3
   },
   "file_extension": ".py",
   "mimetype": "text/x-python",
   "name": "python",
   "nbconvert_exporter": "python",
   "pygments_lexer": "ipython3",
   "version": "3.12.0"
  }
 },
 "nbformat": 4,
 "nbformat_minor": 2
}
